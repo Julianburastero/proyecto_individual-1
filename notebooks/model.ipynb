{
 "cells": [
  {
   "cell_type": "code",
   "execution_count": 92,
   "metadata": {},
   "outputs": [],
   "source": [
    "# Importamos las bibliotecas que utilizaremos:\n",
    "import pandas as pd\n",
    "import numpy as np\n",
    "from sklearn.feature_extraction.text import TfidfVectorizer\n",
    "from sklearn.decomposition import TruncatedSVD\n",
    "from sklearn.metrics.pairwise import cosine_similarity\n",
    "import joblib"
   ]
  },
  {
   "cell_type": "code",
   "execution_count": 93,
   "metadata": {},
   "outputs": [],
   "source": [
    "# Leemos el archivo modelo_prediccion.parquet:\n",
    "modelo_prediccion = pd.read_parquet('../data_post_etl/prediccion/modelo_prediccion.parquet')"
   ]
  },
  {
   "cell_type": "code",
   "execution_count": 94,
   "metadata": {},
   "outputs": [],
   "source": [
    "# Creamos un TfidfVectorizer y transformamos 'predictor' en una matriz TF-IDF:\n",
    "\n",
    "matriz = TfidfVectorizer(min_df=2, max_df=0.93, ngram_range=(1, 2), max_features=34000, \n",
    "dtype=np.float32).fit_transform(modelo_prediccion['predictor'])"
   ]
  },
  {
   "cell_type": "code",
   "execution_count": 95,
   "metadata": {},
   "outputs": [],
   "source": [
    "# Creamos y aplicamos la reducción de dimensionalidad a la matriz utilizando SVD en una sola línea:\n",
    "matriz_reducida = TruncatedSVD(n_components=350, random_state=42).fit_transform(matriz)"
   ]
  },
  {
   "cell_type": "code",
   "execution_count": null,
   "metadata": {},
   "outputs": [
    {
     "name": "stdout",
     "output_type": "stream",
     "text": [
      "{'Recomendaciones': ['toy story 2', 'hawaiian vacation', 'small fry', 'toy story 3', 'partysaurus rex']}\n"
     ]
    }
   ],
   "source": [
    "def recomendar_pelicula(titulo_pelicula):\n",
    "    # Encontramos el índice de la película:\n",
    "    indice = modelo.index[modelo['title'].str.lower() == titulo_pelicula.lower()].tolist()\n",
    "    if not indice:\n",
    "        return \"Película no encontrada\"\n",
    "    \n",
    "    # Calculamos la matriz de similitud del coseno y obtenemos los puntajes:\n",
    "    puntajes_similitud = cosine_similarity(matriz_reducida[indice[0]].reshape(1, -1), matriz_reducida)\n",
    "    \n",
    "    # Ordenamos las películas basadas en la similitud:\n",
    "    puntajes_similitud = sorted(enumerate(puntajes_similitud[0]), key=lambda x: x[1], reverse=True)\n",
    "    \n",
    "    # Obtenemos los títulos de las películas más similares:\n",
    "    indices_peliculas = [i[0] for i in puntajes_similitud[1:6]]  # 5 películas más similares\n",
    "    return {\"Recomendaciones\": modelo['title'].iloc[indices_peliculas].tolist()}"
   ]
  },
  {
   "cell_type": "code",
   "execution_count": null,
   "metadata": {},
   "outputs": [
    {
     "data": {
      "text/plain": [
       "['../data_post_etl/prediccion/matriz_reducida.pkl']"
      ]
     },
     "execution_count": 97,
     "metadata": {},
     "output_type": "execute_result"
    }
   ],
   "source": [
    "# Guardamos la matriz TF-IDF como 'matriz.pkl':\n",
    "joblib.dump(matriz, os.path.join('../data_post_etl/prediccion/', 'matriz.pkl'))\n",
    "\n",
    "# Guardamos la matriz reducida como 'matriz_reducida.pkl':\n",
    "joblib.dump(matriz_reducida, os.path.join('../data_post_etl/prediccion/', 'matriz_reducida.pkl'))"
   ]
  }
 ],
 "metadata": {
  "kernelspec": {
   "display_name": "venv",
   "language": "python",
   "name": "python3"
  },
  "language_info": {
   "codemirror_mode": {
    "name": "ipython",
    "version": 3
   },
   "file_extension": ".py",
   "mimetype": "text/x-python",
   "name": "python",
   "nbconvert_exporter": "python",
   "pygments_lexer": "ipython3",
   "version": "3.11.0"
  }
 },
 "nbformat": 4,
 "nbformat_minor": 2
}
