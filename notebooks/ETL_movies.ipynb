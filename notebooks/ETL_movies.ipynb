{
 "cells": [
  {
   "cell_type": "code",
   "execution_count": 1,
   "metadata": {},
   "outputs": [],
   "source": [
    "#Importamos librerias:\n",
    "import pandas as pd\n",
    "import numpy as np\n",
    "import sys\n",
    "import os"
   ]
  },
  {
   "cell_type": "code",
   "execution_count": 2,
   "metadata": {},
   "outputs": [],
   "source": [
    "#Agregamos la ruta de la carpeta functions:\n",
    "sys.path.append(os.path.abspath(os.path.join('..', 'functions')))"
   ]
  },
  {
   "cell_type": "markdown",
   "metadata": {},
   "source": [
    "                        **Extracción y Transformación Movies**                                                             "
   ]
  },
  {
   "cell_type": "code",
   "execution_count": 3,
   "metadata": {},
   "outputs": [
    {
     "name": "stderr",
     "output_type": "stream",
     "text": [
      "C:\\Users\\Julia\\AppData\\Local\\Temp\\ipykernel_10004\\56624348.py:2: DtypeWarning: Columns (10) have mixed types. Specify dtype option on import or set low_memory=False.\n",
      "  movies_df = pd.read_csv('../data/movies_dataset.csv')\n"
     ]
    }
   ],
   "source": [
    "# Creamos el DataFrame y leemos el archivo:\n",
    "movies_df = pd.read_csv('../data/movies_dataset.csv')"
   ]
  },
  {
   "cell_type": "code",
   "execution_count": 4,
   "metadata": {},
   "outputs": [
    {
     "name": "stdout",
     "output_type": "stream",
     "text": [
      "Warning: La conversión de la columna 'popularity' a float falló debido a valores no convertibles. Se intentará con 'pd.to_numeric'.\n"
     ]
    }
   ],
   "source": [
    "# Importamos la función y convertimos la columna a float o númerico:\n",
    "from convertidor_float import convertir_float\n",
    "\n",
    "movies_df = convertir_float(movies_df, 'popularity')"
   ]
  },
  {
   "cell_type": "code",
   "execution_count": 5,
   "metadata": {},
   "outputs": [],
   "source": [
    "# Dropeamos las filas con valores nulos en 'popularity'\n",
    "movies_df.dropna(subset=['popularity'], inplace=True)"
   ]
  },
  {
   "cell_type": "code",
   "execution_count": 6,
   "metadata": {},
   "outputs": [],
   "source": [
    "#Los valores nulos del campo release date deben eliminarse:\n",
    "movies_df.dropna(subset=['release_date'], inplace= True)"
   ]
  },
  {
   "cell_type": "code",
   "execution_count": 7,
   "metadata": {},
   "outputs": [],
   "source": [
    "# Transformamos a parquet:\n",
    "movies_df.to_parquet('../data/movies_dataset.parquet', engine='pyarrow')"
   ]
  },
  {
   "cell_type": "code",
   "execution_count": 8,
   "metadata": {},
   "outputs": [],
   "source": [
    "# Eliminar las columnas que no serán utilizadas:\n",
    "movies_df.drop(columns=['video', 'imdb_id', 'adult', 'original_title', 'poster_path', 'homepage'], inplace=True)"
   ]
  },
  {
   "cell_type": "code",
   "execution_count": 9,
   "metadata": {},
   "outputs": [
    {
     "name": "stderr",
     "output_type": "stream",
     "text": [
      "C:\\Users\\Julia\\AppData\\Local\\Temp\\ipykernel_10004\\1524035447.py:2: FutureWarning: A value is trying to be set on a copy of a DataFrame or Series through chained assignment using an inplace method.\n",
      "The behavior will change in pandas 3.0. This inplace method will never work because the intermediate object on which we are setting values always behaves as a copy.\n",
      "\n",
      "For example, when doing 'df[col].method(value, inplace=True)', try using 'df.method({col: value}, inplace=True)' or df[col] = df[col].method(value) instead, to perform the operation inplace on the original object.\n",
      "\n",
      "\n",
      "  movies_df['revenue'].fillna(0, inplace=True)\n",
      "C:\\Users\\Julia\\AppData\\Local\\Temp\\ipykernel_10004\\1524035447.py:3: FutureWarning: A value is trying to be set on a copy of a DataFrame or Series through chained assignment using an inplace method.\n",
      "The behavior will change in pandas 3.0. This inplace method will never work because the intermediate object on which we are setting values always behaves as a copy.\n",
      "\n",
      "For example, when doing 'df[col].method(value, inplace=True)', try using 'df.method({col: value}, inplace=True)' or df[col] = df[col].method(value) instead, to perform the operation inplace on the original object.\n",
      "\n",
      "\n",
      "  movies_df['budget'].fillna(0, inplace=True)\n"
     ]
    }
   ],
   "source": [
    "#Los valores nulos de los campos revenue, budget deben ser rellenados por el número 0:\n",
    "movies_df['revenue'].fillna(0, inplace=True)\n",
    "movies_df['budget'].fillna(0, inplace=True)"
   ]
  },
  {
   "cell_type": "code",
   "execution_count": 10,
   "metadata": {},
   "outputs": [],
   "source": [
    "# Borramos los valores Nan de la columna Overview:\n",
    "movies_df.dropna(subset='overview', inplace=True)"
   ]
  },
  {
   "cell_type": "code",
   "execution_count": 11,
   "metadata": {},
   "outputs": [
    {
     "data": {
      "text/plain": [
       "5"
      ]
     },
     "execution_count": 11,
     "metadata": {},
     "output_type": "execute_result"
    }
   ],
   "source": [
    "# Observamos la cantidad de filas en overview que están vacias:\n",
    "movies_df[movies_df['overview'].str.strip() == \"\"].shape[0]"
   ]
  },
  {
   "cell_type": "code",
   "execution_count": 12,
   "metadata": {},
   "outputs": [],
   "source": [
    "# Procedemos a borrarlas:\n",
    "movies_df = movies_df[movies_df['overview'].str.strip() != \"\"]"
   ]
  },
  {
   "cell_type": "code",
   "execution_count": 13,
   "metadata": {},
   "outputs": [
    {
     "data": {
      "text/plain": [
       "dtype('O')"
      ]
     },
     "execution_count": 13,
     "metadata": {},
     "output_type": "execute_result"
    }
   ],
   "source": [
    "# Observamos el tipo de dato de la columa 'release_date'\n",
    "movies_df['release_date'].dtype"
   ]
  },
  {
   "cell_type": "code",
   "execution_count": 14,
   "metadata": {},
   "outputs": [],
   "source": [
    "# Expresión regular para verificar el formato \"AAAA-mm-dd\":\n",
    "regex = r'^\\d{4}-\\d{2}-\\d{2}$'\n",
    "\n",
    "# Verificar si las fechas cumplen con el formato:\n",
    "datos_validos = movies_df['release_date'].str.match(regex)\n",
    "\n",
    "# Filtrar las filas que no cumplen con el formato y obtener los índices:\n",
    "datos_invalidos = movies_df[~datos_validos].index"
   ]
  },
  {
   "cell_type": "code",
   "execution_count": 15,
   "metadata": {},
   "outputs": [],
   "source": [
    "# Borramos los datos que no cumplan con las normas \"AAAA-mm-dd\":\n",
    "movies_df = movies_df.drop([datos_invalidos], errors='ignore')"
   ]
  },
  {
   "cell_type": "code",
   "execution_count": 16,
   "metadata": {},
   "outputs": [],
   "source": [
    "# Ahora si transformamos los datos de la columna 'release_date' to_datetime\n",
    "movies_df['release_date'] = pd.to_datetime(movies_df['release_date'])"
   ]
  },
  {
   "cell_type": "code",
   "execution_count": 17,
   "metadata": {},
   "outputs": [
    {
     "name": "stdout",
     "output_type": "stream",
     "text": [
      "datetime64[ns]\n"
     ]
    }
   ],
   "source": [
    "# Confirmamos la transformación\n",
    "print(movies_df['release_date'].dtype)"
   ]
  },
  {
   "cell_type": "code",
   "execution_count": 18,
   "metadata": {},
   "outputs": [],
   "source": [
    "# Creamnos la columna release_year donde se extraerán el año de la fecha de estreno\n",
    "movies_df['release_year'] = movies_df['release_date'].dt.year"
   ]
  },
  {
   "cell_type": "code",
   "execution_count": 19,
   "metadata": {},
   "outputs": [
    {
     "data": {
      "text/html": [
       "<div>\n",
       "<style scoped>\n",
       "    .dataframe tbody tr th:only-of-type {\n",
       "        vertical-align: middle;\n",
       "    }\n",
       "\n",
       "    .dataframe tbody tr th {\n",
       "        vertical-align: top;\n",
       "    }\n",
       "\n",
       "    .dataframe thead th {\n",
       "        text-align: right;\n",
       "    }\n",
       "</style>\n",
       "<table border=\"1\" class=\"dataframe\">\n",
       "  <thead>\n",
       "    <tr style=\"text-align: right;\">\n",
       "      <th></th>\n",
       "      <th>release_year</th>\n",
       "      <th>release_date</th>\n",
       "    </tr>\n",
       "  </thead>\n",
       "  <tbody>\n",
       "    <tr>\n",
       "      <th>0</th>\n",
       "      <td>1995</td>\n",
       "      <td>1995-10-30</td>\n",
       "    </tr>\n",
       "    <tr>\n",
       "      <th>1</th>\n",
       "      <td>1995</td>\n",
       "      <td>1995-12-15</td>\n",
       "    </tr>\n",
       "    <tr>\n",
       "      <th>2</th>\n",
       "      <td>1995</td>\n",
       "      <td>1995-12-22</td>\n",
       "    </tr>\n",
       "  </tbody>\n",
       "</table>\n",
       "</div>"
      ],
      "text/plain": [
       "   release_year release_date\n",
       "0          1995   1995-10-30\n",
       "1          1995   1995-12-15\n",
       "2          1995   1995-12-22"
      ]
     },
     "execution_count": 19,
     "metadata": {},
     "output_type": "execute_result"
    }
   ],
   "source": [
    "# Confirmamos la creación:\n",
    "movies_df[['release_year', 'release_date']].head(3)"
   ]
  },
  {
   "cell_type": "code",
   "execution_count": 20,
   "metadata": {},
   "outputs": [
    {
     "name": "stdout",
     "output_type": "stream",
     "text": [
      "float64 object\n"
     ]
    }
   ],
   "source": [
    "# Observamos el tipo de dato para las columnas 'revenue' y 'budget':\n",
    "print(movies_df['revenue'].dtype, movies_df['budget'].dtype)"
   ]
  },
  {
   "cell_type": "code",
   "execution_count": 21,
   "metadata": {},
   "outputs": [],
   "source": [
    "#Pasamos la columna budget a numerico así podemos operacionalizarla.\n",
    "movies_df['budget'] = pd.to_numeric(movies_df['budget'], errors='coerce')"
   ]
  },
  {
   "cell_type": "code",
   "execution_count": 22,
   "metadata": {},
   "outputs": [],
   "source": [
    "#Creo la columna con el ROI de las peliculas\n",
    "movies_df['return'] = np.where(movies_df['budget'] > 0, \n",
    "                                movies_df['revenue'] / movies_df['budget'] ,0)"
   ]
  },
  {
   "cell_type": "markdown",
   "metadata": {},
   "source": [
    "                                **Desanidar columnas**                          "
   ]
  },
  {
   "cell_type": "markdown",
   "metadata": {},
   "source": [
    "                **Comenzamos con la la columna belong_to_collection**               "
   ]
  },
  {
   "cell_type": "code",
   "execution_count": 23,
   "metadata": {},
   "outputs": [
    {
     "data": {
      "text/plain": [
       "belongs_to_collection\n",
       "<class 'float'>    40001\n",
       "<class 'str'>       4429\n",
       "Name: count, dtype: int64"
      ]
     },
     "execution_count": 23,
     "metadata": {},
     "output_type": "execute_result"
    }
   ],
   "source": [
    "# Observamos los tipos de datos que conforman a la columna belongs_to_collection\n",
    "movies_df['belongs_to_collection'].apply(type).value_counts()"
   ]
  },
  {
   "cell_type": "code",
   "execution_count": 24,
   "metadata": {},
   "outputs": [],
   "source": [
    "#Importamos la función para generar la conversión y desanidar:\n",
    "from convertidor_list_dict import convertir_list_dict"
   ]
  },
  {
   "cell_type": "code",
   "execution_count": 25,
   "metadata": {},
   "outputs": [],
   "source": [
    "# Convertimos la columna dict:\n",
    "movies_df['belongs_to_collection'] = movies_df['belongs_to_collection'].apply(convertir_list_dict)"
   ]
  },
  {
   "cell_type": "code",
   "execution_count": 26,
   "metadata": {},
   "outputs": [
    {
     "data": {
      "text/plain": [
       "belongs_to_collection\n",
       "<class 'NoneType'>    40001\n",
       "<class 'dict'>         4429\n",
       "Name: count, dtype: int64"
      ]
     },
     "execution_count": 26,
     "metadata": {},
     "output_type": "execute_result"
    }
   ],
   "source": [
    "# Confirmamos la transformación:\n",
    "movies_df['belongs_to_collection'].apply(type).value_counts()"
   ]
  },
  {
   "cell_type": "code",
   "execution_count": 27,
   "metadata": {},
   "outputs": [],
   "source": [
    "# Desanidamos y normalizamos la columna y creamos un df que contiene la columna \n",
    "# belong_to_coleccion desanidada y normalizada:\n",
    "btc = pd.json_normalize(movies_df['belongs_to_collection'])"
   ]
  },
  {
   "cell_type": "code",
   "execution_count": 28,
   "metadata": {},
   "outputs": [],
   "source": [
    "# Cambiamos los nombres de las columnas del DataFrame recientemente creado:\n",
    "btc = btc.rename(columns={'id': 'btc_id', 'name': 'btc_name', \n",
    "                            'poster_path': 'btc_poster_path', \n",
    "                            'backdrop_path': 'btc_backdrop_path'})"
   ]
  },
  {
   "cell_type": "code",
   "execution_count": 29,
   "metadata": {},
   "outputs": [],
   "source": [
    "# Procedemos a concatenar el DataFrame orginal con el que creamos:\n",
    "movies_df = pd.concat([movies_df, btc], axis=1)"
   ]
  },
  {
   "cell_type": "code",
   "execution_count": 30,
   "metadata": {},
   "outputs": [],
   "source": [
    "# Borramos las columnas concatenadas que no nos sirven para el analisis\n",
    "movies_df.drop(columns=['btc_poster_path', 'btc_backdrop_path'], axis=1, inplace=True)\n",
    "# Al ya estar desanidada procedemos a borrarla:\n",
    "movies_df.drop(columns='belongs_to_collection', axis=1, inplace=True)"
   ]
  },
  {
   "cell_type": "code",
   "execution_count": 31,
   "metadata": {},
   "outputs": [],
   "source": [
    "# Hacemos lo mismo para el DataFrame btc\n",
    "btc.drop(columns=['btc_poster_path', 'btc_backdrop_path'], axis=1, inplace=True)"
   ]
  },
  {
   "cell_type": "markdown",
   "metadata": {},
   "source": [
    "                        **Continuamos con la columna genres**                   "
   ]
  },
  {
   "cell_type": "code",
   "execution_count": 32,
   "metadata": {},
   "outputs": [
    {
     "data": {
      "text/plain": [
       "genres\n",
       "<class 'str'>      44430\n",
       "<class 'float'>      986\n",
       "Name: count, dtype: int64"
      ]
     },
     "execution_count": 32,
     "metadata": {},
     "output_type": "execute_result"
    }
   ],
   "source": [
    "# Observamos los tipos de datos que conforman a la columna genres:\n",
    "movies_df['genres'].apply(type).value_counts()"
   ]
  },
  {
   "cell_type": "code",
   "execution_count": 33,
   "metadata": {},
   "outputs": [],
   "source": [
    "# Convertimos la columna a list:\n",
    "movies_df['genres'] = movies_df['genres'].apply(convertir_list_dict)"
   ]
  },
  {
   "cell_type": "code",
   "execution_count": 34,
   "metadata": {},
   "outputs": [],
   "source": [
    "# Dropeamos aquellas filas donde se contienen valores None en la columna\n",
    "movies_df = movies_df[movies_df['genres'].notna()]"
   ]
  },
  {
   "cell_type": "code",
   "execution_count": 35,
   "metadata": {},
   "outputs": [
    {
     "data": {
      "text/plain": [
       "genres\n",
       "<class 'list'>    44430\n",
       "Name: count, dtype: int64"
      ]
     },
     "execution_count": 35,
     "metadata": {},
     "output_type": "execute_result"
    }
   ],
   "source": [
    "# Confirmamos la transformación:\n",
    "movies_df['genres'].apply(type).value_counts()"
   ]
  },
  {
   "cell_type": "code",
   "execution_count": 36,
   "metadata": {},
   "outputs": [],
   "source": [
    "# Importamos la función para desnidar la columna:\n",
    "from desanidar import desanidar_columna"
   ]
  },
  {
   "cell_type": "code",
   "execution_count": 37,
   "metadata": {},
   "outputs": [],
   "source": [
    "# Desanidamos y normalizamos la columna y creamos un df que contiene la columna \n",
    "# genres desanidada y normalizada:\n",
    "genres = desanidar_columna(movies_df, 'genres','genres')"
   ]
  },
  {
   "cell_type": "code",
   "execution_count": 38,
   "metadata": {},
   "outputs": [],
   "source": [
    "# Al ya estar desanidada procedemos a borrarla:\n",
    "movies_df.drop(columns='genres', axis=1, inplace=True)"
   ]
  },
  {
   "cell_type": "markdown",
   "metadata": {},
   "source": [
    "                        **Continuamos con production_companies**                          "
   ]
  },
  {
   "cell_type": "code",
   "execution_count": 39,
   "metadata": {},
   "outputs": [
    {
     "data": {
      "text/plain": [
       "production_companies\n",
       "<class 'str'>    44430\n",
       "Name: count, dtype: int64"
      ]
     },
     "execution_count": 39,
     "metadata": {},
     "output_type": "execute_result"
    }
   ],
   "source": [
    "# Observamos los tipos de datos que conforman a la columna production_companies:\n",
    "movies_df['production_companies'].apply(type).value_counts()"
   ]
  },
  {
   "cell_type": "code",
   "execution_count": 40,
   "metadata": {},
   "outputs": [],
   "source": [
    "# Convertimos la columna a list:\n",
    "movies_df['production_companies'] = movies_df['production_companies'].apply(convertir_list_dict)"
   ]
  },
  {
   "cell_type": "code",
   "execution_count": 41,
   "metadata": {},
   "outputs": [
    {
     "data": {
      "text/plain": [
       "production_companies\n",
       "<class 'list'>    44430\n",
       "Name: count, dtype: int64"
      ]
     },
     "execution_count": 41,
     "metadata": {},
     "output_type": "execute_result"
    }
   ],
   "source": [
    "# Confirmamos la transformación:\n",
    "movies_df['production_companies'].apply(type).value_counts()"
   ]
  },
  {
   "cell_type": "code",
   "execution_count": 42,
   "metadata": {},
   "outputs": [],
   "source": [
    "# Desanidamos y normalizamos la columna y creamos un df que contiene la columna \n",
    "# production_companies desanidada y normalizada:\n",
    "production_companies = desanidar_columna(movies_df, 'production_companies', 'production_companies')"
   ]
  },
  {
   "cell_type": "code",
   "execution_count": 43,
   "metadata": {},
   "outputs": [],
   "source": [
    "# No nos sirve tener dos id, procedemos a borrarlos:\n",
    "production_companies.drop(columns='id', inplace=True)"
   ]
  },
  {
   "cell_type": "code",
   "execution_count": 44,
   "metadata": {},
   "outputs": [
    {
     "data": {
      "text/plain": [
       "np.int64(11241)"
      ]
     },
     "execution_count": 44,
     "metadata": {},
     "output_type": "execute_result"
    }
   ],
   "source": [
    "# Observamos que tiene muchos NaN:\n",
    "production_companies['name'].isna().sum()"
   ]
  },
  {
   "cell_type": "code",
   "execution_count": 45,
   "metadata": {},
   "outputs": [],
   "source": [
    "# Procedemos a borrar las filas que tienen NaNs para la columna name\n",
    "production_companies.dropna(subset='name', inplace=True)"
   ]
  },
  {
   "cell_type": "code",
   "execution_count": 46,
   "metadata": {},
   "outputs": [],
   "source": [
    "# Al ya estar desanidada procedemos a borrarla:\n",
    "movies_df.drop(columns='production_companies', axis=1, inplace=True)"
   ]
  },
  {
   "cell_type": "markdown",
   "metadata": {},
   "source": [
    "                        **Continuamos con production_countries**                              "
   ]
  },
  {
   "cell_type": "code",
   "execution_count": 47,
   "metadata": {},
   "outputs": [
    {
     "data": {
      "text/plain": [
       "production_countries\n",
       "<class 'str'>    44430\n",
       "Name: count, dtype: int64"
      ]
     },
     "execution_count": 47,
     "metadata": {},
     "output_type": "execute_result"
    }
   ],
   "source": [
    "# Observamos los tipos de datos que conforman a la columna production_companies:\n",
    "movies_df['production_countries'].apply(type).value_counts()"
   ]
  },
  {
   "cell_type": "code",
   "execution_count": 48,
   "metadata": {},
   "outputs": [],
   "source": [
    "# Convertimos la columna a list:\n",
    "movies_df['production_countries'] = movies_df['production_countries'].apply(convertir_list_dict)"
   ]
  },
  {
   "cell_type": "code",
   "execution_count": 49,
   "metadata": {},
   "outputs": [
    {
     "data": {
      "text/plain": [
       "production_countries\n",
       "<class 'list'>    44430\n",
       "Name: count, dtype: int64"
      ]
     },
     "execution_count": 49,
     "metadata": {},
     "output_type": "execute_result"
    }
   ],
   "source": [
    "# Confirmamos la transformación:\n",
    "movies_df['production_countries'].apply(type).value_counts()"
   ]
  },
  {
   "cell_type": "code",
   "execution_count": 50,
   "metadata": {},
   "outputs": [],
   "source": [
    "# Desanidamos y normalizamos la columna y creamos un df que contiene la columna \n",
    "# production_countries desanidada y normalizada:\n",
    "production_countries = desanidar_columna(movies_df, 'production_countries', \n",
    "                                        'production_countries_desanidado')"
   ]
  },
  {
   "cell_type": "code",
   "execution_count": 51,
   "metadata": {},
   "outputs": [],
   "source": [
    "# Al ya estar desanidada procedemos a borrarla:\n",
    "movies_df.drop(columns='production_countries', axis=1, inplace=True)"
   ]
  },
  {
   "cell_type": "markdown",
   "metadata": {},
   "source": [
    "                            **Finalizamos con spoken_langueges**                                "
   ]
  },
  {
   "cell_type": "code",
   "execution_count": 52,
   "metadata": {},
   "outputs": [
    {
     "data": {
      "text/plain": [
       "spoken_languages\n",
       "<class 'str'>    44430\n",
       "Name: count, dtype: int64"
      ]
     },
     "execution_count": 52,
     "metadata": {},
     "output_type": "execute_result"
    }
   ],
   "source": [
    "# Observamos los tipos de datos que conforman a la columna production_companies:\n",
    "movies_df['spoken_languages'].apply(type).value_counts()"
   ]
  },
  {
   "cell_type": "code",
   "execution_count": 53,
   "metadata": {},
   "outputs": [],
   "source": [
    "movies_df['spoken_languages'] = movies_df['spoken_languages'].apply(convertir_list_dict)"
   ]
  },
  {
   "cell_type": "code",
   "execution_count": 54,
   "metadata": {},
   "outputs": [
    {
     "data": {
      "text/plain": [
       "spoken_languages\n",
       "<class 'list'>    44430\n",
       "Name: count, dtype: int64"
      ]
     },
     "execution_count": 54,
     "metadata": {},
     "output_type": "execute_result"
    }
   ],
   "source": [
    "# Confirmamos transformación\n",
    "movies_df['spoken_languages'].apply(type).value_counts()"
   ]
  },
  {
   "cell_type": "code",
   "execution_count": 55,
   "metadata": {},
   "outputs": [],
   "source": [
    "# Desanidamos y normalizamos la columna y creamos un df que contiene la columna \n",
    "# production_countries desanidada y normalizada:\n",
    "spoken_languages = desanidar_columna(movies_df, 'spoken_languages', \n",
    "                                    'spoken_languages_desanidada')"
   ]
  },
  {
   "cell_type": "code",
   "execution_count": 56,
   "metadata": {},
   "outputs": [],
   "source": [
    "# Al ya estar desanidada procedemos a borrarla:\n",
    "movies_df.drop(columns='spoken_languages', axis=1, inplace=True)"
   ]
  },
  {
   "cell_type": "markdown",
   "metadata": {},
   "source": [
    "                            **Algunos detalles...**                                    "
   ]
  },
  {
   "cell_type": "code",
   "execution_count": 57,
   "metadata": {},
   "outputs": [],
   "source": [
    "# Tomaremos para el analisis únicamente aquellas peliculas que fueron realizas\n",
    "movies_df = movies_df[movies_df['status'] == 'Released']\n",
    "# Al trabajar unicamente con peliculas ya hechas, la columna status no tiene sentido\n",
    "movies_df.drop(columns='status', axis=1, inplace=True)"
   ]
  },
  {
   "cell_type": "code",
   "execution_count": 58,
   "metadata": {},
   "outputs": [],
   "source": [
    "# El tagline no es un material que aporte al analisis\n",
    "movies_df.drop(columns='tagline', axis=1, inplace=True)"
   ]
  },
  {
   "cell_type": "code",
   "execution_count": 59,
   "metadata": {},
   "outputs": [],
   "source": [
    "\n",
    "# Transformamos la columna tutle para no crear conflictos con al API\n",
    "movies_df['title'] = movies_df['title'].str.lower()\n",
    "\n",
    "# Transformamos las columnas a float para no crear conflictos con la API\n",
    "movies_df['release_year'] = movies_df['release_year'].astype(int)\n",
    "movies_df['vote_count'] = movies_df['vote_count'].astype(int)\n",
    "movies_df['id'] = movies_df['id'].astype(int)\n",
    "\n",
    "# Redondear columnas a 2 decimales\n",
    "movies_df['return'] = movies_df['return'].round(2)\n",
    "movies_df['popularity'] = movies_df['popularity'].round(2)\n",
    "\n",
    "# Reiniciamos el index\n",
    "movies_df = movies_df.reset_index(drop=True)"
   ]
  },
  {
   "cell_type": "code",
   "execution_count": 60,
   "metadata": {},
   "outputs": [
    {
     "name": "stdout",
     "output_type": "stream",
     "text": [
      "<class 'pandas.core.frame.DataFrame'>\n",
      "RangeIndex: 44026 entries, 0 to 44025\n",
      "Data columns (total 19 columns):\n",
      " #   Column                   Non-Null Count  Dtype         \n",
      "---  ------                   --------------  -----         \n",
      " 0   budget                   44026 non-null  float64       \n",
      " 1   id                       44026 non-null  int64         \n",
      " 2   original_language        44017 non-null  object        \n",
      " 3   overview                 44026 non-null  object        \n",
      " 4   popularity               44026 non-null  float64       \n",
      " 5   release_date             44026 non-null  datetime64[ns]\n",
      " 6   revenue                  44026 non-null  float64       \n",
      " 7   runtime                  44026 non-null  float64       \n",
      " 8   title                    44026 non-null  object        \n",
      " 9   vote_average             44026 non-null  float64       \n",
      " 10  vote_count               44026 non-null  int64         \n",
      " 11  release_year             44026 non-null  int64         \n",
      " 12  return                   44026 non-null  float64       \n",
      " 13  btc_id                   4293 non-null   float64       \n",
      " 14  btc_name                 4293 non-null   object        \n",
      " 15  genres_id                44026 non-null  int64         \n",
      " 16  production_companies_id  44026 non-null  int64         \n",
      " 17  production_countries_id  44026 non-null  int64         \n",
      " 18  spoken_languages_id      44026 non-null  int64         \n",
      "dtypes: datetime64[ns](1), float64(7), int64(7), object(4)\n",
      "memory usage: 6.4+ MB\n"
     ]
    }
   ],
   "source": [
    "# Resumen final del DataFrame movies_df \n",
    "movies_df.info()"
   ]
  },
  {
   "cell_type": "markdown",
   "metadata": {},
   "source": [
    "                                    **Carga**                                       "
   ]
  },
  {
   "cell_type": "code",
   "execution_count": 61,
   "metadata": {},
   "outputs": [],
   "source": [
    "# Definimos la ruta de la carpeta donde se almacenarán los archivos procesados de \"movies\" después del ETL:\n",
    "movies = '../data_post_etl/movies/'\n",
    "\n",
    "# Creamos la carpeta \"movies\" (y cualquier carpeta intermedia necesaria) en la ruta especificada si no existe:\n",
    "os.makedirs(movies, exist_ok=True)\n",
    "\n",
    "# Especificamos la ruta completa del archivo \"movies_dataset_etl.parquet\" dentro de la carpeta \"movies\":\n",
    "ruta = os.path.join(movies, 'movies_dataset_etl.parquet')\n",
    "\n",
    "# Guardamos el DataFrame \"movies_df\" en formato Parquet en la ruta especificada, usando el motor \"pyarrow\" y sin incluir el índice:\n",
    "movies_df.to_parquet(ruta, engine='pyarrow', index=False)"
   ]
  },
  {
   "cell_type": "code",
   "execution_count": 62,
   "metadata": {},
   "outputs": [],
   "source": [
    "# Cargamos las nuevas tablas creadas\n",
    "\n",
    "# Especificamos la ruta completa del archivo \"genres.parquet\" dentro de la carpeta \"movies\":\n",
    "ruta2 = os.path.join(movies, 'genres.parquet')\n",
    "\n",
    "# Guardamos el DataFrame \"genres\" en formato Parquet en la ruta especificada, usando el motor \"pyarrow\" y sin incluir el índice:\n",
    "genres.to_parquet(ruta2, engine='pyarrow', index=False)"
   ]
  }
 ],
 "metadata": {
  "kernelspec": {
   "display_name": "venv",
   "language": "python",
   "name": "python3"
  },
  "language_info": {
   "codemirror_mode": {
    "name": "ipython",
    "version": 3
   },
   "file_extension": ".py",
   "mimetype": "text/x-python",
   "name": "python",
   "nbconvert_exporter": "python",
   "pygments_lexer": "ipython3",
   "version": "3.11.0"
  }
 },
 "nbformat": 4,
 "nbformat_minor": 2
}
